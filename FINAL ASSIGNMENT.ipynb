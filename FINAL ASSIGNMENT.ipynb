{
 "cells": [
  {
   "cell_type": "markdown",
   "id": "5b03ac84",
   "metadata": {},
   "source": [
    "#FINAL ASSIGNMENT"
   ]
  },
  {
   "cell_type": "code",
   "execution_count": 9,
   "id": "ad02cef4",
   "metadata": {},
   "outputs": [],
   "source": [
    "##IMPORTING REQUIRED LIBRARIES"
   ]
  },
  {
   "cell_type": "code",
   "execution_count": 10,
   "id": "9dad15c5",
   "metadata": {},
   "outputs": [],
   "source": [
    "import pandas as pd;\n",
    "import numpy as np;\n",
    "from sklearn.model_selection import train_test_split\n",
    "from sklearn.preprocessing import StandardScaler\n",
    "from sklearn.neighbors import KNeighborsClassifier\n",
    "from sklearn.metrics import confusion_matrix\n",
    "from sklearn.metrics import accuracy_score"
   ]
  },
  {
   "cell_type": "code",
   "execution_count": 11,
   "id": "330cf576",
   "metadata": {},
   "outputs": [],
   "source": [
    "##LOADING DATASET AND DEFININIG TRAINING AND TEST DATA"
   ]
  },
  {
   "cell_type": "code",
   "execution_count": 12,
   "id": "8ef60943",
   "metadata": {},
   "outputs": [],
   "source": [
    "# Reads the dataset using pandas\n",
    "url = 'https://raw.githubusercontent.com/jbrownlee/Datasets/master/housing.csv'\n",
    "dataset = pd.read_csv(url, header=None)\n",
    "\n",
    "# Replacing the zeroes present in the cell with the mean average of the column\n",
    "for value in range(14):\n",
    "    dataset[value]=dataset[value].replace(0,np.NAN)\n",
    "    mean = int(dataset[value].mean(skipna=True))\n",
    "    dataset[value]=dataset[value].replace(np.NAN,mean)\n",
    "for i in range(14):\n",
    "    dataset[i]=dataset[i].astype(int)\n",
    "# Divides the dataset as input data and output data separately for training and testing \n",
    "\n",
    "data = dataset.values\n",
    "X, y = data[:,0:8], data[:,8]\n",
    "# split the data\n",
    "data_train, data_test, outcomeData_train, outcomeData_test = train_test_split(X, y, test_size=0.2, random_state=1)"
   ]
  },
  {
   "cell_type": "code",
   "execution_count": 13,
   "id": "a4e2efc2",
   "metadata": {},
   "outputs": [],
   "source": [
    "##K-MEANS CLUSTERING"
   ]
  },
  {
   "cell_type": "code",
   "execution_count": 14,
   "id": "30d1403d",
   "metadata": {},
   "outputs": [
    {
     "name": "stdout",
     "output_type": "stream",
     "text": [
      "404\n"
     ]
    }
   ],
   "source": [
    "# it scales the data to unit variance\n",
    "\n",
    "sc=StandardScaler()\n",
    "data_train=sc.fit_transform(data_train)\n",
    "data_test=sc.transform(data_test)\n",
    "print(len(outcomeData_train))\n",
    "# find the value of k in the dataset which will be usually done as\n",
    "#       k =sqrt(n) \n",
    "#       n --> number of datasets in training sample\n",
    "# here k = 11 for the dataset\n",
    "\n",
    "# classifies the data with k value and by calculating euclidean distances\n",
    "\n",
    "classifier =KNeighborsClassifier(n_neighbors=3,p=2,metric='euclidean')\n",
    "classifier.fit(data_train,outcomeData_train)\n",
    "y_pred=classifier.predict(data_test)"
   ]
  },
  {
   "cell_type": "code",
   "execution_count": 15,
   "id": "dc28cc20",
   "metadata": {},
   "outputs": [],
   "source": [
    "##CALCULATION OF CONFUSION MATRIX AND ACCURACY"
   ]
  },
  {
   "cell_type": "code",
   "execution_count": 16,
   "id": "6bcdbb90",
   "metadata": {},
   "outputs": [
    {
     "name": "stdout",
     "output_type": "stream",
     "text": [
      "0.6862745098039216\n",
      "[ 2  3  4  4  5  4  3  4  6  2 24  6  6  1  5 24 24  8  4 24  4  5  4  5\n",
      "  4 24  4  1  5 24  1  8  1 24  5  6 24  1 24 24  3  5  8 24 24 24  5 24\n",
      " 24  5 24  6  3 24  4  4 24  4  4  8 24  3 24 24  4  3  8  3  4  5  3 24\n",
      " 24  4  5 24  5  6  5  2  4  6  2 24  1  1 24  3  6  4  6  5  4  1 24  5\n",
      "  6  4  8  5 24 24]\n"
     ]
    }
   ],
   "source": [
    "# confusion matrix is calculated which is a matrix with Predicted values at top and actual at left\n",
    "\n",
    "cm=confusion_matrix(outcomeData_test,y_pred)\n",
    "\n",
    "# calculates the accuracy of the trained model \n",
    "print(accuracy_score(outcomeData_test,y_pred))\n",
    "print(y_pred)"
   ]
  },
  {
   "cell_type": "code",
   "execution_count": null,
   "id": "3b562a20",
   "metadata": {},
   "outputs": [],
   "source": []
  }
 ],
 "metadata": {
  "kernelspec": {
   "display_name": "Python 3 (ipykernel)",
   "language": "python",
   "name": "python3"
  },
  "language_info": {
   "codemirror_mode": {
    "name": "ipython",
    "version": 3
   },
   "file_extension": ".py",
   "mimetype": "text/x-python",
   "name": "python",
   "nbconvert_exporter": "python",
   "pygments_lexer": "ipython3",
   "version": "3.9.7"
  }
 },
 "nbformat": 4,
 "nbformat_minor": 5
}
